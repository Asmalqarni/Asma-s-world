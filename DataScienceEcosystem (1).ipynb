{
  "cells": [
    {
      "cell_type": "markdown",
      "metadata": {},
      "source": [
        "Data Science Tools and Ecosystem"
      ]
    },
    {
      "cell_type": "markdown",
      "metadata": {},
      "source": [
        "In this notebook, Data Science Tools and Ecosystem are summarized."
      ]
    },
    {
      "cell_type": "markdown",
      "metadata": {},
      "source": [
        " data science languages:\n",
        " 1-python\n",
        " 2-java\n",
        " 3-scala\n",
        " 4-julia\n",
        " 5-javascript\n"
      ]
    },
    {
      "cell_type": "markdown",
      "metadata": {},
      "source": [
        "libraries used by Data Scientists:\n",
        "1-numpy\n",
        "2-pandas\n",
        "3-scipy"
      ]
    },
    {
      "cell_type": "markdown",
      "metadata": {},
      "source": [
        "| Data Science Tools |\n",
        "| --- | --- | --- |\n",
        "| VS | Jupyter | Anaconda |"
      ]
    },
    {
      "cell_type": "markdown",
      "metadata": {},
      "source": [
        "Below are a few examples of evaluating arithmetic expressions in Python."
      ]
    },
    {
      "cell_type": "code",
      "execution_count": 5,
      "metadata": {
        "trusted": true
      },
      "outputs": [],
      "source": [
        "#In this code cell write an expression that converts 200 minutes into hours.\n",
        "minutes = 200 % 60\n",
        "hours = 200 // 60\n",
        "hours, minutes = divmod(200, 60)"
      ]
    },
    {
      "cell_type": "code",
      "execution_count": 4,
      "metadata": {
        "trusted": true
      },
      "outputs": [
        {
          "data": {
            "text/plain": [
              "17"
            ]
          },
          "execution_count": 4,
          "metadata": {},
          "output_type": "execute_result"
        }
      ],
      "source": [
        "#This a simple arithmetic expression to mutiply then add integers.\n",
        "(3*4)+5\n"
      ]
    },
    {
      "cell_type": "markdown",
      "metadata": {},
      "source": [
        "Objectives:\n",
        ".Define criteria and roles to decide which language to learn\n",
        ".Description of data sets and data sources.\n",
        ".Describe the basic Jupyter architecture."
      ]
    },
    {
      "cell_type": "markdown",
      "metadata": {},
      "source": [
        "Author:\n",
        ".Lakshmi Holla\n",
        ".Niveditha Pandith\n",
        ".Other contributor(s)\n",
        ".Rav Ahuja\n",
        ".Malika Singla"
      ]
    },
    {
      "cell_type": "code",
      "execution_count": null,
      "metadata": {},
      "outputs": [],
      "source": []
    }
  ],
  "metadata": {
    "kernelspec": {
      "display_name": "Python (Pyodide)",
      "language": "python",
      "name": "python"
    },
    "language_info": {
      "codemirror_mode": {
        "name": "python",
        "version": 3
      },
      "file_extension": ".py",
      "mimetype": "text/x-python",
      "name": "python",
      "nbconvert_exporter": "python",
      "pygments_lexer": "ipython3",
      "version": "3.8"
    }
  },
  "nbformat": 4,
  "nbformat_minor": 4
}
